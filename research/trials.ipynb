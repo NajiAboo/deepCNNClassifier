{
 "cells": [
  {
   "cell_type": "code",
   "execution_count": null,
   "metadata": {},
   "outputs": [],
   "source": []
  }
 ],
 "metadata": {
  "kernelspec": {
   "display_name": "Python 3.8.13 64-bit ('env')",
   "language": "python",
   "name": "python3"
  },
  "language_info": {
   "name": "python",
   "version": "3.8.13"
  },
  "orig_nbformat": 4,
  "vscode": {
   "interpreter": {
    "hash": "f7aa0f384c128afe4fbffa82d97dd6ce16413d59f5d2b14e07478978dd3525f6"
   }
  }
 },
 "nbformat": 4,
 "nbformat_minor": 2
}
